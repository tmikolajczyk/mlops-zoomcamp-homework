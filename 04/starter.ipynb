{
 "cells": [
  {
   "cell_type": "code",
   "execution_count": 10,
   "id": "2c51efaa",
   "metadata": {},
   "outputs": [
    {
     "name": "stdout",
     "output_type": "stream",
     "text": [
      "scikit-learn==1.0.2\n"
     ]
    }
   ],
   "source": [
    "!pip freeze | grep scikit-learn"
   ]
  },
  {
   "cell_type": "code",
   "execution_count": 7,
   "id": "0ef880a0",
   "metadata": {},
   "outputs": [],
   "source": [
    "import pickle\n",
    "import pandas as pd"
   ]
  },
  {
   "cell_type": "code",
   "execution_count": 11,
   "id": "7836ccfd",
   "metadata": {},
   "outputs": [],
   "source": [
    "with open('model.bin', 'rb') as f_in:\n",
    "    dv, lr = pickle.load(f_in)"
   ]
  },
  {
   "cell_type": "code",
   "execution_count": 12,
   "id": "41c08294",
   "metadata": {},
   "outputs": [],
   "source": [
    "categorical = ['PUlocationID', 'DOlocationID']\n",
    "\n",
    "def read_data(filename):\n",
    "    df = pd.read_parquet(filename)\n",
    "    \n",
    "    df['duration'] = df.dropOff_datetime - df.pickup_datetime\n",
    "    df['duration'] = df.duration.dt.total_seconds() / 60\n",
    "\n",
    "    df = df[(df.duration >= 1) & (df.duration <= 60)].copy()\n",
    "\n",
    "    df[categorical] = df[categorical].fillna(-1).astype('int').astype('str')\n",
    "    \n",
    "    return df"
   ]
  },
  {
   "cell_type": "code",
   "execution_count": 18,
   "id": "0709b77f-5732-4b11-bcf4-c9d0556646b3",
   "metadata": {},
   "outputs": [],
   "source": [
    "year = 2021\n",
    "month = 2"
   ]
  },
  {
   "cell_type": "code",
   "execution_count": 22,
   "id": "4854399a",
   "metadata": {},
   "outputs": [],
   "source": [
    "df = read_data(f'https://nyc-tlc.s3.amazonaws.com/trip+data/fhv_tripdata_{year}-{month:02d}.parquet')"
   ]
  },
  {
   "cell_type": "code",
   "execution_count": 23,
   "id": "669fda0a",
   "metadata": {},
   "outputs": [],
   "source": [
    "dicts = df[categorical].to_dict(orient='records')\n",
    "X_val = dv.transform(dicts)\n",
    "y_pred = lr.predict(X_val)"
   ]
  },
  {
   "cell_type": "markdown",
   "id": "2f634879-6b9b-4ca5-baba-9f867fecd890",
   "metadata": {},
   "source": [
    "# Q1"
   ]
  },
  {
   "cell_type": "code",
   "execution_count": 24,
   "id": "63ce279b-b017-4758-89ad-caa26c6ab852",
   "metadata": {},
   "outputs": [
    {
     "name": "stdout",
     "output_type": "stream",
     "text": [
      "Answer to question 1 is: 16.19\n"
     ]
    }
   ],
   "source": [
    "print(f'Answer to question 1 is: {round(y_pred.mean(), 2)}')"
   ]
  },
  {
   "cell_type": "markdown",
   "id": "38545787-5423-4656-bf3d-e291be2a2049",
   "metadata": {},
   "source": [
    "# Q2"
   ]
  },
  {
   "cell_type": "code",
   "execution_count": 28,
   "id": "afb2877c-818a-4417-862e-435930e65ac2",
   "metadata": {},
   "outputs": [],
   "source": [
    "df['ride_id'] = f'{year:04d}/{month:02d}_' + df.index.astype('str')\n",
    "\n",
    "df_result = df.loc[:, ['ride_id']]\n",
    "df_result['pred'] = pd.Series(y_pred)\n",
    "\n",
    "output_file = 'output.parquet'\n",
    "\n",
    "df_result.to_parquet(\n",
    "    output_file,\n",
    "    engine='pyarrow',\n",
    "    compression=None,\n",
    "    index=False\n",
    ")"
   ]
  },
  {
   "cell_type": "code",
   "execution_count": 29,
   "id": "239a3524-c3e5-446b-990a-f3584465c019",
   "metadata": {},
   "outputs": [
    {
     "name": "stdout",
     "output_type": "stream",
     "text": [
      "Answer to question 2 is: 19.0\n"
     ]
    }
   ],
   "source": [
    "import os\n",
    "\n",
    "size = os.path.getsize(output_file)\n",
    "print(f'Answer to question 2 is: {round(size/(1024*1024), 0)}')"
   ]
  },
  {
   "cell_type": "markdown",
   "id": "7f7b910a-d911-4937-bdfe-9fd5444faf8c",
   "metadata": {},
   "source": [
    "# Q3"
   ]
  },
  {
   "cell_type": "code",
   "execution_count": 32,
   "id": "e69257fe-4549-4b34-a92c-778c2437a9b9",
   "metadata": {},
   "outputs": [
    {
     "name": "stdout",
     "output_type": "stream",
     "text": [
      "[NbConvertApp] Converting notebook starter.ipynb to script\n",
      "[NbConvertApp] Writing 1496 bytes to starter.py\n"
     ]
    }
   ],
   "source": [
    "!jupyter nbconvert --to script starter.ipynb"
   ]
  },
  {
   "cell_type": "markdown",
   "id": "906b11cd-870b-4851-8240-80c086217025",
   "metadata": {},
   "source": [
    "# Q4"
   ]
  },
  {
   "cell_type": "code",
   "execution_count": 38,
   "id": "c2c3c3d6-d21d-4f26-a0b0-2f750f27b12b",
   "metadata": {},
   "outputs": [],
   "source": [
    "import json\n",
    "\n",
    "f = open('Pipfile.lock')\n",
    "data = json.load(f)"
   ]
  },
  {
   "cell_type": "code",
   "execution_count": 48,
   "id": "9565b35e-57fb-419d-b088-e035a517bd08",
   "metadata": {},
   "outputs": [
    {
     "data": {
      "text/plain": [
       "'sha256:08ef968f6b72033c16c479c966bf37ccd49b06ea91b765e1cc27afefe723920b'"
      ]
     },
     "execution_count": 48,
     "metadata": {},
     "output_type": "execute_result"
    }
   ],
   "source": [
    "data.get('default').get('scikit-learn').get('hashes')[0]"
   ]
  },
  {
   "cell_type": "markdown",
   "id": "6efdd8e5-b72e-4983-8f94-ecd2a5a3840c",
   "metadata": {},
   "source": [
    "# Q5"
   ]
  },
  {
   "cell_type": "code",
   "execution_count": 56,
   "id": "290225ee-3bfb-49f9-97a6-367b8bb8b14b",
   "metadata": {},
   "outputs": [],
   "source": [
    "from starter import count_mean_pred"
   ]
  },
  {
   "cell_type": "code",
   "execution_count": 57,
   "id": "2be125fa-4c26-4d37-9325-105c7ef55540",
   "metadata": {},
   "outputs": [
    {
     "name": "stdout",
     "output_type": "stream",
     "text": [
      "Answer to question 1 is: 16.3\n"
     ]
    }
   ],
   "source": [
    "df, y_pred = count_mean_pred(2021, 3)"
   ]
  },
  {
   "cell_type": "markdown",
   "id": "2091c9a4-109b-4073-88de-e01b6aed0151",
   "metadata": {
    "tags": []
   },
   "source": [
    "# Q6"
   ]
  },
  {
   "cell_type": "markdown",
   "id": "b871ec55-4b6b-402c-96e4-b0481037423e",
   "metadata": {},
   "source": [
    "`docker build -t duration-prediction:v1 .`"
   ]
  },
  {
   "cell_type": "markdown",
   "id": "700cb162-3096-46ae-a0df-c343480e6a73",
   "metadata": {},
   "source": [
    "`docker run -it --rm -p 9696:9696 duration-prediction:v1`"
   ]
  },
  {
   "cell_type": "code",
   "execution_count": null,
   "id": "22445e02-e7e3-4928-8a8e-0ed65e3cd94e",
   "metadata": {},
   "outputs": [],
   "source": []
  }
 ],
 "metadata": {
  "kernelspec": {
   "display_name": "Python 3 (ipykernel)",
   "language": "python",
   "name": "python3"
  },
  "language_info": {
   "codemirror_mode": {
    "name": "ipython",
    "version": 3
   },
   "file_extension": ".py",
   "mimetype": "text/x-python",
   "name": "python",
   "nbconvert_exporter": "python",
   "pygments_lexer": "ipython3",
   "version": "3.8.10"
  }
 },
 "nbformat": 4,
 "nbformat_minor": 5
}
